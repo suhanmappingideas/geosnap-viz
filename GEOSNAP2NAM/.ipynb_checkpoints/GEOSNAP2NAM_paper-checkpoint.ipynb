{
 "cells": [
  {
   "cell_type": "code",
   "execution_count": 4,
   "metadata": {},
   "outputs": [],
   "source": [
    "import pandas as pd\n",
    "from GEOSNAP2NAM import Clustering_viz\n",
    "from GEOSNAP2NAM import Clustering_log"
   ]
  },
  {
   "cell_type": "code",
   "execution_count": 2,
   "metadata": {},
   "outputs": [],
   "source": [
    "sample = \"downloads/LTDB_Std_All_Sample.zip\"\n",
    "full = \"downloads/LTDB_Std_All_fullcount.zip\"\n",
    "store_ltdb(sample=sample, fullcount=full)\n",
    "store_census()"
   ]
  },
  {
   "cell_type": "code",
   "execution_count": 5,
   "metadata": {},
   "outputs": [],
   "source": [
    "param = {\n",
    "    'title': \"Neighborhood Change Over Space and Time\",\n",
    "    'filename_suffix': \"LA_kmeans\",              \n",
    "    'county_fips': \"06037\",             \n",
    "    'years': [1980, 1990, 2000, 2010],  \n",
    "    'method': \"kmeans\", \n",
    "    'nClusters': 5,     \n",
    "    'variables': [\n",
    "            \"p_nonhisp_white_persons\",\n",
    "            \"p_nonhisp_black_persons\",\n",
    "            \"p_hispanic_persons\",\n",
    "            \"p_asian_persons\",\n",
    "            \"p_foreign_born_pop\",\n",
    "            \"p_edu_college_greater\",\n",
    "            \"p_unemployment_rate\",\n",
    "            \"p_employed_manufacturing\",\n",
    "            \"p_poverty_rate\",\n",
    "            \"p_vacant_housing_units\",\n",
    "            \"p_owner_occupied_units\",\n",
    "            \"p_housing_units_multiunit_structures\",\n",
    "            \"median_home_value\",\n",
    "            \"p_structures_30_old\",\n",
    "            \"p_household_recent_move\",\n",
    "            \"p_persons_under_18\",\n",
    "            \"p_persons_over_60\",\n",
    "                 ],\n",
    "    'Sequence': {'seq_clusters': 6, 'dist_type': 'tran'},    \n",
    "}"
   ]
  },
  {
   "cell_type": "code",
   "execution_count": null,
   "metadata": {},
   "outputs": [
    {
     "name": "stderr",
     "output_type": "stream",
     "text": [
      "/home/suhan/anaconda3/envs/geosnap2/lib/python3.7/site-packages/scipy/cluster/hierarchy.py:830: ClusterWarning: scipy.cluster: The symmetric non-negative hollow observation matrix looks suspiciously like an uncondensed distance matrix\n",
      "  return linkage(y, method='ward', metric='euclidean')\n"
     ]
    }
   ],
   "source": [
    "Clustering_viz(param)"
   ]
  },
  {
   "cell_type": "code",
   "execution_count": 9,
   "metadata": {},
   "outputs": [],
   "source": [
    "Clustering_log()"
   ]
  },
  {
   "cell_type": "code",
   "execution_count": null,
   "metadata": {},
   "outputs": [],
   "source": []
  }
 ],
 "metadata": {
  "kernelspec": {
   "display_name": "Python 3",
   "language": "python",
   "name": "python3"
  },
  "language_info": {
   "codemirror_mode": {
    "name": "ipython",
    "version": 3
   },
   "file_extension": ".py",
   "mimetype": "text/x-python",
   "name": "python",
   "nbconvert_exporter": "python",
   "pygments_lexer": "ipython3",
   "version": "3.7.3"
  }
 },
 "nbformat": 4,
 "nbformat_minor": 2
}
