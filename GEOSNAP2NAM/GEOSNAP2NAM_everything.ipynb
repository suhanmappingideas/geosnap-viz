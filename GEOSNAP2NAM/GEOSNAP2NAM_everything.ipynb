{
 "cells": [
  {
   "cell_type": "code",
   "execution_count": 1,
   "metadata": {},
   "outputs": [
    {
     "name": "stderr",
     "output_type": "stream",
     "text": [
      "Loading manifest: 100%|███████████████████████████████████████████████████████████| 2/2 [00:00<00:00, 2003.01entries/s]\n",
      "Loading manifest: 100%|███████████████████████████████████████████████████████████| 5/5 [00:00<00:00, 5003.94entries/s]\n",
      "Loading manifest: 100%|█████████████████████████████████████████████████████████████████████| 5/5 [00:00<?, ?entries/s]\n",
      "Loading manifest: 100%|███████████████████████████████████████████████████████████| 2/2 [00:00<00:00, 1992.54entries/s]\n"
     ]
    }
   ],
   "source": [
    "import pandas as pd\n",
    "from GEOSNAP2NAM import Clustering_viz\n",
    "from GEOSNAP2NAM import Clustering_log"
   ]
  },
  {
   "cell_type": "code",
   "execution_count": 2,
   "metadata": {},
   "outputs": [],
   "source": [
    "#sample = \"downloads/LTDB_Std_All_Sample.zip\"\n",
    "#full = \"downloads/LTDB_Std_All_fullcount.zip\"\n",
    "#store_ltdb(sample=sample, fullcount=full)\n",
    "#store_census()"
   ]
  },
  {
   "cell_type": "code",
   "execution_count": 2,
   "metadata": {},
   "outputs": [],
   "source": [
    "param = {\n",
    "    'title': \"Neighborhood Analysis: Kmeans, San Diego\",\n",
    "    'filename_suffix': \"SD_everything\",              # \"Albertville\"\n",
    "    'state_fips': None,\n",
    "    'msa_fips': \"41740\",                         # \"10700\"\n",
    "    'county_fips': None,\n",
    "    'years': [1980, 1990, 2000, 2010],           # Available years: 1970, 1980, 1990, 2000 and 2010\n",
    "    'method': \"kmeans\",                          # Aspatial Clustering: affinity_propagation, gaussian_mixture, hdbscan, kmeans, spectral, ward\n",
    "                                                 # Spatial Clustering: azp, max_p, skater, spenc, ward_spatial   \n",
    "    'nClusters': 8,                              # This option should be commented out for affinity_propagation, hdbscan and max_p \n",
    "    'variables': [\"p_nonhisp_white_persons\", \n",
    "                  \"p_nonhisp_black_persons\", \n",
    "                  \"p_hispanic_persons\", \n",
    "                  \"p_native_persons\", \n",
    "                  \"p_asian_persons\",\n",
    "                 ],\n",
    "    'Sequence': {'seq_clusters': 5, 'dist_type': 'tran'},    # seq_clusters': 5, dist_type': 'tran'\n",
    "    # optional visualization below.\n",
    "    'Index_of_neighborhood_change': True,        #choropleth map: Maps representing index of neighborhood Change\n",
    "    'Maps_of_neighborhood': True,                #choropleth map: Maps representing clustering result\t\t\n",
    "    'Distribution_INC1': True,                   #density chart: INC changes as the map extent changes \n",
    "    'Distribution_INC2_different_period': True,  #density chart: INC changes by different years\n",
    "    'Distribution_INC2_different_cluster': True, #density chart: INC changes by different clusters\n",
    "    'Temporal_change_in_neighborhoods': True,    #stacked chart: Temporal Change in Neighborhoods over years\t\t\n",
    "    'Parallel_Categories_Diagram_in_neighborhoods': True,\n",
    "    'Chord_Diagram_in_neighborhoods': True, \n",
    "}"
   ]
  },
  {
   "cell_type": "code",
   "execution_count": 3,
   "metadata": {},
   "outputs": [
    {
     "name": "stderr",
     "output_type": "stream",
     "text": [
      "c:\\users\\suzie\\.conda\\envs\\geosnap\\lib\\site-packages\\pyproj\\crs\\crs.py:53: FutureWarning: '+init=<authority>:<code>' syntax is deprecated. '<authority>:<code>' is the preferred initialization method. When making the change, be mindful of axis order changes: https://pyproj4.github.io/pyproj/stable/gotchas.html#axis-order-changes-in-proj-6\n",
      "  return _prepare_from_string(\" \".join(pjargs))\n",
      "c:\\users\\suzie\\.conda\\envs\\geosnap\\lib\\site-packages\\sklearn\\cluster\\_kmeans.py:934: FutureWarning: 'precompute_distances' was deprecated in version 0.23 and will be removed in 0.25. It has no effect\n",
      "  \"effect\", FutureWarning)\n",
      "c:\\users\\suzie\\.conda\\envs\\geosnap\\lib\\site-packages\\sklearn\\cluster\\_kmeans.py:939: FutureWarning: 'n_jobs' was deprecated in version 0.23 and will be removed in 0.25.\n",
      "  \" removed in 0.25.\", FutureWarning)\n",
      "c:\\users\\suzie\\.conda\\envs\\geosnap\\lib\\site-packages\\scipy\\cluster\\hierarchy.py:826: ClusterWarning: scipy.cluster: The symmetric non-negative hollow observation matrix looks suspiciously like an uncondensed distance matrix\n",
      "  return linkage(y, method='ward', metric='euclidean')\n"
     ]
    },
    {
     "name": "stdout",
     "output_type": "stream",
     "text": [
      "Please run \"NAM_SD_everything/index.html\" to your web browser.\n",
      "Advanced options are available in \"NAM_SD_everything/data/GEO_CONFIG.js\"\n"
     ]
    }
   ],
   "source": [
    "Clustering_viz(param)"
   ]
  },
  {
   "cell_type": "code",
   "execution_count": 4,
   "metadata": {},
   "outputs": [],
   "source": [
    "Clustering_log()"
   ]
  },
  {
   "cell_type": "code",
   "execution_count": null,
   "metadata": {},
   "outputs": [],
   "source": []
  }
 ],
 "metadata": {
  "kernelspec": {
   "display_name": "Python 3",
   "language": "python",
   "name": "python3"
  },
  "language_info": {
   "codemirror_mode": {
    "name": "ipython",
    "version": 3
   },
   "file_extension": ".py",
   "mimetype": "text/x-python",
   "name": "python",
   "nbconvert_exporter": "python",
   "pygments_lexer": "ipython3",
   "version": "3.7.8"
  }
 },
 "nbformat": 4,
 "nbformat_minor": 2
}
